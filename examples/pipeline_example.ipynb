{
 "cells": [
  {
   "cell_type": "code",
   "execution_count": null,
   "metadata": {},
   "outputs": [],
   "source": [
    "using Base.Threads, LaTeXStrings, Plots, VantHoffFitting\n",
    "\n",
    "println(string(\"Number of available cores for threading: \", nthreads()))"
   ]
  },
  {
   "cell_type": "markdown",
   "metadata": {},
   "source": [
    "# Introduction"
   ]
  },
  {
   "cell_type": "markdown",
   "metadata": {},
   "source": [
    "This is a minimal example on how to apply our framework to a set of $\\ln(K_{\\text{eq}})$-values, measured at different temperatures $T$.  The data should be of the following form:"
   ]
  },
  {
   "cell_type": "code",
   "execution_count": null,
   "metadata": {},
   "outputs": [],
   "source": [
    "example_T = [295.0, 301.0, 310.5] # Kelvin\n",
    "example_lnK = [-3.0, -1.0, 0.4] # dimensionless\n",
    "example_ΔlnK = [0.1, 0.07, 0.12] # dimensionless\n",
    "example_data = hcat([example_T, example_lnK, example_ΔlnK]...)"
   ]
  },
  {
   "cell_type": "markdown",
   "metadata": {},
   "source": [
    "Note that the code also works without specifying the uncertainties.  The data array would then only contain two columns (in the above example these would be `example_T` and `example_lnK`).  "
   ]
  },
  {
   "cell_type": "markdown",
   "metadata": {},
   "source": [
    "You can try out the framework on the datasets `dataset_1.dat` and `dataset_2.dat`, which can be found in the subdirectory `./mock_data/`, or try it out on your own data.  Reading in the data goes as follows:"
   ]
  },
  {
   "cell_type": "code",
   "execution_count": null,
   "metadata": {},
   "outputs": [],
   "source": [
    "using DelimitedFiles\n",
    "\n",
    "data = readdlm(\"./mock_data/dataset_1.dat\") # or use dataset_2"
   ]
  },
  {
   "cell_type": "markdown",
   "metadata": {},
   "source": [
    "For more details on the theoretical framework, please refer to the associated publication:\n",
    "\n",
    "> J. T. Bullerjahn and S. Hanson, \"Robust analysis of the thermodynamic properties of temperature-sensing molecules\", in preparation.  "
   ]
  },
  {
   "cell_type": "markdown",
   "metadata": {},
   "source": [
    "# Data fitting\n",
    "\n",
    "The data points are fitted using cubic splines, i.e., piecewise continuous third-order polynomials of the form\n",
    "\\begin{equation*}\n",
    "S_{i}(s_{i-1} \\leq x \\leq s_{i}) = \\sum_{n=0}^{3} a_{n}^{(i)} (x - s_{i-1})^{n} \\, , \\qquad i = 1,2,\\dots,N,\n",
    "\\end{equation*}\n",
    "which are joined together in the spline knots $s_{i}$.  The splines satisfy the continuity conditions\n",
    "\\begin{align*}\n",
    "S_{i}(s_{i}) & = S_{i+1}(s_{i}) \\, , \\\\\n",
    "S'_{i}(s_{i}) & = S'_{i+1}(s_{i}) \\, , \\\\\n",
    "S''_{i}(s_{i}) & = S''_{i+1}(s_{i}) \\, , \n",
    "\\end{align*}\n",
    "as well as some appropriate boundary conditions.  Here, we choose so-called natural boundary conditions, namely\n",
    "\\begin{equation*}\n",
    "S''_{1}(s_{0}) = S''_{N}(s_{N}) = 0 \\, .  \n",
    "\\end{equation*}\n",
    "The continuity equations and boundary conditions constrain the values of the spline coefficients $a_{n}^{(i)}$, such that only $N+1$ of them can be varied independently.  This is exploited when splines are used to interpolate between a set of points ${x_{i},f(x_{i})}_{i=0}^{N}$, by setting $s_{i} = x_{i}$ $\\forall i$ and $a_{0}^{(i)} \\equiv S_{i}(s_{i-1}) = f(x_{i-1})$ for $i=1,\\dots,N$, as well as $S_{N}(s_{N}) = f(x_{N})$.  \n",
    "\n",
    "In our fitting procedure, the edge knots $s_{0}$ and $s_{N}$ are held fixed, while the \"inner\" knots are allowed to vary.  We also vary the values of the splines at the knots.  The best fit minimizes the sum of squared residuals between the data points and splines.  \n",
    "\n",
    "\n",
    "\n",
    "### Fitting $\\ln(K_{\\text{eq}})$ as a function of $T$ (\"linear model\")\n",
    "\n",
    "Thermodynamics tells us that\n",
    "\\begin{equation*}\n",
    "\\ln (K_{\\text{eq}}) = - \\frac{\\Delta H(T)}{R T} + \\frac{\\Delta S(T)}{R}\n",
    "\\end{equation*}\n",
    "must hold, where the enthalpy and entropy differences are defined as\n",
    "\\begin{align*}\n",
    "\\Delta H(T) & = \\Delta H(T_{0}) + \\int_{T_{0}}^{T} \\mathrm{d}T' \\Delta C_{p}(T') \\, , \n",
    "\\\\\n",
    "\\Delta S(T) & = \\Delta S(T_{0}) + \\int_{T_{0}}^{T} \\mathrm{d}T' \\frac{\\Delta C_{p}(T')}{T'} \\, .  \n",
    "\\end{align*}\n",
    "The derivative of $\\ln(K_{\\text{eq}})$ with respect to $T$ is then given by\n",
    "\\begin{equation*}\n",
    "\\frac{\\mathrm{d} \\ln(K_{\\text{eq}})}{\\mathrm{d}T} = \\frac{\\Delta H(T)}{R T^{2}} - \\frac{\\Delta C_{p}(T)}{R T} + \\frac{\\Delta C_{p}(T)}{R T} \\equiv \n",
    "\\frac{\\Delta H(T)}{R T^{2}} \\, ,\n",
    "\\end{equation*}\n",
    "so the heat capacity difference can be extracted as follows:\n",
    "\\begin{equation*}\n",
    "\\Delta C_{p} = \\frac{\\mathrm{d} \\Delta H(T)}{\\mathrm{d}T} = R \\frac{\\mathrm{d}}{\\mathrm{d}T} \\bigg[ T^{2} \\frac{\\mathrm{d} \\ln(K_{\\text{eq}})}{\\mathrm{d}T} \\bigg] = 2 R T \\frac{\\mathrm{d} \\ln(K_{\\text{eq}})}{\\mathrm{d}T} + R T^{2} \\frac{\\mathrm{d}^{2} \\ln(K_{\\text{eq}})}{\\mathrm{d}T^{2}} \\, .  \n",
    "\\end{equation*}\n",
    "\n",
    "### Fitting $\\ln(K_{\\text{eq}})$ as a function of $1/T$ (\"reciprocal model\")\n",
    "\n",
    "Equivalently, we can also consider the derivative of $\\ln(K_{\\text{eq}})$ with respect to $1/T$, i.e.,\n",
    "\\begin{equation*}\n",
    "\\frac{\\mathrm{d} \\ln(K_{\\text{eq}})}{\\mathrm{d}(1/T)} = \\bigg[ \\frac{\\mathrm{d} (1/T)}{\\mathrm{d} T} \\bigg]^{-1} \\frac{\\mathrm{d} \\ln(K_{\\text{eq}})}{\\mathrm{d}T} \\equiv \n",
    "- \\frac{\\Delta H(T)}{R} \\, ,\n",
    "\\end{equation*}\n",
    "The heat capacity is then given by\n",
    "\\begin{equation*}\n",
    "\\Delta C_{p} = \\frac{\\mathrm{d} \\Delta H(T)}{\\mathrm{d}T} = \\frac{\\mathrm{d} (1/T)}{\\mathrm{d} T} \\frac{\\mathrm{d} \\Delta H(T)}{\\mathrm{d}(1/T)} = \\frac{R}{T^{2}} \\frac{\\mathrm{d}^{2} \\ln(K_{\\text{eq}})}{\\mathrm{d}(1/T)^{2}} \\, .  \n",
    "\\end{equation*}"
   ]
  },
  {
   "cell_type": "markdown",
   "metadata": {},
   "source": [
    "# Data analysis\n",
    "\n",
    "Note that the function `fit_data` uses threading to speed up its calculation.  If you have not done so already, you can run the command `export JULIA_NUM_THREAD=n`, with `n` being the number of available (physical) cores, prior to launching Julia.  Evaluating the top cell of this notebook should print out the number `n` of available cores for threading, if the above-mentioned command was executed properly.  "
   ]
  },
  {
   "cell_type": "code",
   "execution_count": null,
   "metadata": {
    "scrolled": true
   },
   "outputs": [],
   "source": [
    "model, spline_parameters = fit_data(data)"
   ]
  },
  {
   "cell_type": "code",
   "execution_count": null,
   "metadata": {},
   "outputs": [],
   "source": [
    "# Here, we define a temperature range on which we plot various thermodynamic potentials:\n",
    "T = collect(floor(data[1,1])-1.0:0.1:ceil(data[end,1])+1.0)\n",
    "lnK = ln_K.(T, (spline_parameters,), model)\n",
    "\n",
    "# This function is needed for the plot below to identify whether data contains uncertainties or not.  \n",
    "function errorbars(data)\n",
    "    N = size(data,1)\n",
    "    d = size(data,2)\n",
    "    if d == 2\n",
    "        return ones(N)\n",
    "    else\n",
    "        return data[:,3]\n",
    "    end\n",
    "end\n",
    "\n",
    "plot(T, lnK, label=\"splines\", legend=:topleft)\n",
    "pK = plot!(data[:,1], data[:,2], seriestype=:scatter, \n",
    "    yerror=errorbars(data), ylim = [ data[1,2]-1, data[end,2]+1 ],\n",
    "    label=\"empirical data\", \n",
    "    xlabel=\"temperature T [K]\", \n",
    "    ylabel=string(\"equilibrium constant \", L\"\\ln (K_{\\mathrm{d}})\") )"
   ]
  },
  {
   "cell_type": "code",
   "execution_count": null,
   "metadata": {},
   "outputs": [],
   "source": [
    "dC_p = ΔC_p.(T, (spline_parameters,), model)\n",
    "dH = ΔH.(T, (spline_parameters,), model)\n",
    "dS = ΔS.(T, (spline_parameters,), model)\n",
    "dG = ΔG.(T, (spline_parameters,), model)\n",
    "\n",
    "p1 = plot(T, dC_p, legend=false, linewidth=2, color=1, \n",
    "    xlabel=\"temperature T [K]\", \n",
    "    ylabel=string(\"heat capacity \", L\"\\Delta C_p\"))\n",
    "\n",
    "p2 = plot(T, dH, legend=false, linewidth=2, color=2, \n",
    "    xlabel=\"temperature T [K]\", \n",
    "    ylabel=string(\"enthalpy \", L\"\\Delta H\"))\n",
    "\n",
    "p3 = plot(T, T .* dS, legend=false, linewidth=2, color=3, \n",
    "    xlabel=\"temperature T [K]\", \n",
    "    ylabel=string(\"entropy \", L\"T \\Delta S\"))\n",
    "\n",
    "plot(data[:,1], -R*data[:,1] .* data[:,2], seriestype=:scatter, \n",
    "    yerror=R*data[:,1] .* errorbars(data), label=\"data\", color=12)\n",
    "p4 = plot!(T, dG, legend=:bottomleft, linewidth=2, color=4, \n",
    "    label=string(model, \" fit\"), \n",
    "    xlabel=\"temperature T [K]\", \n",
    "    ylabel=string(\"free energy \", L\"\\Delta G\"))\n",
    "\n",
    "plot(p1,p2,p3,p4,layout=(2,2))"
   ]
  },
  {
   "cell_type": "markdown",
   "metadata": {},
   "source": [
    "You can either export the above figures using"
   ]
  },
  {
   "cell_type": "code",
   "execution_count": null,
   "metadata": {},
   "outputs": [],
   "source": [
    "savefig(pK, \"./plot1.pdf\")\n",
    "savefig(p1, \"./plot2.pdf\")\n",
    "savefig(p2, \"./plot3.pdf\")\n",
    "savefig(p3, \"./plot4.pdf\")\n",
    "savefig(p4, \"./plot5.pdf\")"
   ]
  },
  {
   "cell_type": "markdown",
   "metadata": {},
   "source": [
    "or explicitly write out the data points as follows:"
   ]
  },
  {
   "cell_type": "code",
   "execution_count": null,
   "metadata": {},
   "outputs": [],
   "source": [
    "writedlm(\"./heat_capacity.dat\", hcat([T, dC_p]...))\n",
    "writedlm(\"./enthalpy.dat\", hcat([T, dH]...))\n",
    "writedlm(\"./entropy.dat\", hcat([T, dS]...))\n",
    "writedlm(\"./free_energy.dat\", hcat([T, dG]...))"
   ]
  },
  {
   "cell_type": "code",
   "execution_count": null,
   "metadata": {},
   "outputs": [],
   "source": []
  }
 ],
 "metadata": {
  "kernelspec": {
   "display_name": "Julia 1.8.0",
   "language": "julia",
   "name": "julia-1.8"
  },
  "language_info": {
   "file_extension": ".jl",
   "mimetype": "application/julia",
   "name": "julia",
   "version": "1.8.0"
  }
 },
 "nbformat": 4,
 "nbformat_minor": 4
}
